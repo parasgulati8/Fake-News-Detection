{
  "nbformat": 4,
  "nbformat_minor": 0,
  "metadata": {
    "colab": {
      "name": "Fake News.ipynb",
      "provenance": [],
      "mount_file_id": "https://github.com/parasgulati8/Fake-News-Detection/blob/master/Fake_News.ipynb",
      "authorship_tag": "ABX9TyPEz2vSn8UZ6+0CO4Yx26xZ",
      "include_colab_link": true
    },
    "kernelspec": {
      "name": "python3",
      "display_name": "Python 3"
    },
    "accelerator": "GPU"
  },
  "cells": [
    {
      "cell_type": "markdown",
      "metadata": {
        "id": "view-in-github",
        "colab_type": "text"
      },
      "source": [
        "<a href=\"https://colab.research.google.com/github/parasgulati8/Fake-News-Detection/blob/master/Fake_News.ipynb\" target=\"_parent\"><img src=\"https://colab.research.google.com/assets/colab-badge.svg\" alt=\"Open In Colab\"/></a>"
      ]
    },
    {
      "cell_type": "code",
      "metadata": {
        "id": "mjxp5tOv2_GZ",
        "colab_type": "code",
        "colab": {
          "base_uri": "https://localhost:8080/",
          "height": 34
        },
        "outputId": "9332549e-34bc-4545-cdaa-fbfb413bd198"
      },
      "source": [
        "cd drive/'My Drive'/'Colab Notebooks'/dataset"
      ],
      "execution_count": null,
      "outputs": [
        {
          "output_type": "stream",
          "text": [
            "/content/drive/My Drive/Colab Notebooks/dataset\n"
          ],
          "name": "stdout"
        }
      ]
    },
    {
      "cell_type": "markdown",
      "metadata": {
        "id": "xl2uUpiE9rdG",
        "colab_type": "text"
      },
      "source": [
        "#Import Libraries"
      ]
    },
    {
      "cell_type": "code",
      "metadata": {
        "id": "6MKgTztq3fvq",
        "colab_type": "code",
        "colab": {}
      },
      "source": [
        "import pandas as pd\n",
        "import numpy as np\n",
        "import tensorflow as tf\n",
        "from tensorflow.keras.preprocessing.text import Tokenizer\n",
        "from tensorflow.keras.preprocessing.sequence import pad_sequences\n",
        "from sklearn.model_selection import StratifiedShuffleSplit\n",
        "from tensorflow.keras.models import Sequential\n",
        "from tensorflow.keras.layers import Dense,Embedding,LSTM,Dropout\n",
        "import matplotlib.pyplot as plt\n",
        "import os"
      ],
      "execution_count": 1,
      "outputs": []
    },
    {
      "cell_type": "code",
      "metadata": {
        "id": "JSjwSK6kIggL",
        "colab_type": "code",
        "colab": {}
      },
      "source": [
        "from tensorflow.keras.utils import plot_model"
      ],
      "execution_count": 29,
      "outputs": []
    },
    {
      "cell_type": "markdown",
      "metadata": {
        "id": "bMSGMHdZ9wnd",
        "colab_type": "text"
      },
      "source": [
        "# Train on labelled data"
      ]
    },
    {
      "cell_type": "code",
      "metadata": {
        "id": "GYvtECgd8q43",
        "colab_type": "code",
        "colab": {}
      },
      "source": [
        ""
      ],
      "execution_count": null,
      "outputs": []
    },
    {
      "cell_type": "code",
      "metadata": {
        "id": "Q_ja6U0lI7c1",
        "colab_type": "code",
        "colab": {}
      },
      "source": [
        ""
      ],
      "execution_count": null,
      "outputs": []
    },
    {
      "cell_type": "code",
      "metadata": {
        "id": "ZkvVRF_36Bk5",
        "colab_type": "code",
        "colab": {}
      },
      "source": [
        "fake = pd.read_csv('Fake.csv')\n",
        "true = pd.read_csv('True.csv')"
      ],
      "execution_count": null,
      "outputs": []
    },
    {
      "cell_type": "code",
      "metadata": {
        "id": "A_FIoB_UKw8D",
        "colab_type": "code",
        "colab": {}
      },
      "source": [
        ""
      ],
      "execution_count": null,
      "outputs": []
    },
    {
      "cell_type": "code",
      "metadata": {
        "id": "8jdym0kT6OrO",
        "colab_type": "code",
        "colab": {
          "base_uri": "https://localhost:8080/",
          "height": 204
        },
        "outputId": "44c6ab20-84ea-45d5-d78f-5c363ab36322"
      },
      "source": [
        "fake.head()"
      ],
      "execution_count": null,
      "outputs": [
        {
          "output_type": "execute_result",
          "data": {
            "text/html": [
              "<div>\n",
              "<style scoped>\n",
              "    .dataframe tbody tr th:only-of-type {\n",
              "        vertical-align: middle;\n",
              "    }\n",
              "\n",
              "    .dataframe tbody tr th {\n",
              "        vertical-align: top;\n",
              "    }\n",
              "\n",
              "    .dataframe thead th {\n",
              "        text-align: right;\n",
              "    }\n",
              "</style>\n",
              "<table border=\"1\" class=\"dataframe\">\n",
              "  <thead>\n",
              "    <tr style=\"text-align: right;\">\n",
              "      <th></th>\n",
              "      <th>title</th>\n",
              "      <th>text</th>\n",
              "      <th>subject</th>\n",
              "      <th>date</th>\n",
              "    </tr>\n",
              "  </thead>\n",
              "  <tbody>\n",
              "    <tr>\n",
              "      <th>0</th>\n",
              "      <td>Donald Trump Sends Out Embarrassing New Year’...</td>\n",
              "      <td>Donald Trump just couldn t wish all Americans ...</td>\n",
              "      <td>News</td>\n",
              "      <td>December 31, 2017</td>\n",
              "    </tr>\n",
              "    <tr>\n",
              "      <th>1</th>\n",
              "      <td>Drunk Bragging Trump Staffer Started Russian ...</td>\n",
              "      <td>House Intelligence Committee Chairman Devin Nu...</td>\n",
              "      <td>News</td>\n",
              "      <td>December 31, 2017</td>\n",
              "    </tr>\n",
              "    <tr>\n",
              "      <th>2</th>\n",
              "      <td>Sheriff David Clarke Becomes An Internet Joke...</td>\n",
              "      <td>On Friday, it was revealed that former Milwauk...</td>\n",
              "      <td>News</td>\n",
              "      <td>December 30, 2017</td>\n",
              "    </tr>\n",
              "    <tr>\n",
              "      <th>3</th>\n",
              "      <td>Trump Is So Obsessed He Even Has Obama’s Name...</td>\n",
              "      <td>On Christmas day, Donald Trump announced that ...</td>\n",
              "      <td>News</td>\n",
              "      <td>December 29, 2017</td>\n",
              "    </tr>\n",
              "    <tr>\n",
              "      <th>4</th>\n",
              "      <td>Pope Francis Just Called Out Donald Trump Dur...</td>\n",
              "      <td>Pope Francis used his annual Christmas Day mes...</td>\n",
              "      <td>News</td>\n",
              "      <td>December 25, 2017</td>\n",
              "    </tr>\n",
              "  </tbody>\n",
              "</table>\n",
              "</div>"
            ],
            "text/plain": [
              "                                               title  ...               date\n",
              "0   Donald Trump Sends Out Embarrassing New Year’...  ...  December 31, 2017\n",
              "1   Drunk Bragging Trump Staffer Started Russian ...  ...  December 31, 2017\n",
              "2   Sheriff David Clarke Becomes An Internet Joke...  ...  December 30, 2017\n",
              "3   Trump Is So Obsessed He Even Has Obama’s Name...  ...  December 29, 2017\n",
              "4   Pope Francis Just Called Out Donald Trump Dur...  ...  December 25, 2017\n",
              "\n",
              "[5 rows x 4 columns]"
            ]
          },
          "metadata": {
            "tags": []
          },
          "execution_count": 6
        }
      ]
    },
    {
      "cell_type": "code",
      "metadata": {
        "id": "hBsFc7dD6Ziv",
        "colab_type": "code",
        "colab": {
          "base_uri": "https://localhost:8080/",
          "height": 204
        },
        "outputId": "bed69982-c673-4aa3-b893-6bcb0bd0f319"
      },
      "source": [
        "true.head()"
      ],
      "execution_count": null,
      "outputs": [
        {
          "output_type": "execute_result",
          "data": {
            "text/html": [
              "<div>\n",
              "<style scoped>\n",
              "    .dataframe tbody tr th:only-of-type {\n",
              "        vertical-align: middle;\n",
              "    }\n",
              "\n",
              "    .dataframe tbody tr th {\n",
              "        vertical-align: top;\n",
              "    }\n",
              "\n",
              "    .dataframe thead th {\n",
              "        text-align: right;\n",
              "    }\n",
              "</style>\n",
              "<table border=\"1\" class=\"dataframe\">\n",
              "  <thead>\n",
              "    <tr style=\"text-align: right;\">\n",
              "      <th></th>\n",
              "      <th>title</th>\n",
              "      <th>text</th>\n",
              "      <th>subject</th>\n",
              "      <th>date</th>\n",
              "    </tr>\n",
              "  </thead>\n",
              "  <tbody>\n",
              "    <tr>\n",
              "      <th>0</th>\n",
              "      <td>As U.S. budget fight looms, Republicans flip t...</td>\n",
              "      <td>WASHINGTON (Reuters) - The head of a conservat...</td>\n",
              "      <td>politicsNews</td>\n",
              "      <td>December 31, 2017</td>\n",
              "    </tr>\n",
              "    <tr>\n",
              "      <th>1</th>\n",
              "      <td>U.S. military to accept transgender recruits o...</td>\n",
              "      <td>WASHINGTON (Reuters) - Transgender people will...</td>\n",
              "      <td>politicsNews</td>\n",
              "      <td>December 29, 2017</td>\n",
              "    </tr>\n",
              "    <tr>\n",
              "      <th>2</th>\n",
              "      <td>Senior U.S. Republican senator: 'Let Mr. Muell...</td>\n",
              "      <td>WASHINGTON (Reuters) - The special counsel inv...</td>\n",
              "      <td>politicsNews</td>\n",
              "      <td>December 31, 2017</td>\n",
              "    </tr>\n",
              "    <tr>\n",
              "      <th>3</th>\n",
              "      <td>FBI Russia probe helped by Australian diplomat...</td>\n",
              "      <td>WASHINGTON (Reuters) - Trump campaign adviser ...</td>\n",
              "      <td>politicsNews</td>\n",
              "      <td>December 30, 2017</td>\n",
              "    </tr>\n",
              "    <tr>\n",
              "      <th>4</th>\n",
              "      <td>Trump wants Postal Service to charge 'much mor...</td>\n",
              "      <td>SEATTLE/WASHINGTON (Reuters) - President Donal...</td>\n",
              "      <td>politicsNews</td>\n",
              "      <td>December 29, 2017</td>\n",
              "    </tr>\n",
              "  </tbody>\n",
              "</table>\n",
              "</div>"
            ],
            "text/plain": [
              "                                               title  ...                date\n",
              "0  As U.S. budget fight looms, Republicans flip t...  ...  December 31, 2017 \n",
              "1  U.S. military to accept transgender recruits o...  ...  December 29, 2017 \n",
              "2  Senior U.S. Republican senator: 'Let Mr. Muell...  ...  December 31, 2017 \n",
              "3  FBI Russia probe helped by Australian diplomat...  ...  December 30, 2017 \n",
              "4  Trump wants Postal Service to charge 'much mor...  ...  December 29, 2017 \n",
              "\n",
              "[5 rows x 4 columns]"
            ]
          },
          "metadata": {
            "tags": []
          },
          "execution_count": 7
        }
      ]
    },
    {
      "cell_type": "code",
      "metadata": {
        "id": "VfXvwGBo6cZX",
        "colab_type": "code",
        "colab": {}
      },
      "source": [
        "fake['Text'] = (fake.title +'. ' + fake.text)\n",
        "true['Text'] = true.title + '. ' + true.text"
      ],
      "execution_count": null,
      "outputs": []
    },
    {
      "cell_type": "code",
      "metadata": {
        "id": "gs5e4SRX7wZK",
        "colab_type": "code",
        "colab": {}
      },
      "source": [
        "fake['label'] = 0\n",
        "true['label'] = 1"
      ],
      "execution_count": null,
      "outputs": []
    },
    {
      "cell_type": "code",
      "metadata": {
        "id": "NIYxC3La7tmx",
        "colab_type": "code",
        "colab": {
          "base_uri": "https://localhost:8080/",
          "height": 204
        },
        "outputId": "78c50c1f-6d88-42f2-96af-adc972f4de11"
      },
      "source": [
        "true.head()"
      ],
      "execution_count": null,
      "outputs": [
        {
          "output_type": "execute_result",
          "data": {
            "text/html": [
              "<div>\n",
              "<style scoped>\n",
              "    .dataframe tbody tr th:only-of-type {\n",
              "        vertical-align: middle;\n",
              "    }\n",
              "\n",
              "    .dataframe tbody tr th {\n",
              "        vertical-align: top;\n",
              "    }\n",
              "\n",
              "    .dataframe thead th {\n",
              "        text-align: right;\n",
              "    }\n",
              "</style>\n",
              "<table border=\"1\" class=\"dataframe\">\n",
              "  <thead>\n",
              "    <tr style=\"text-align: right;\">\n",
              "      <th></th>\n",
              "      <th>title</th>\n",
              "      <th>text</th>\n",
              "      <th>subject</th>\n",
              "      <th>date</th>\n",
              "      <th>Text</th>\n",
              "      <th>label</th>\n",
              "    </tr>\n",
              "  </thead>\n",
              "  <tbody>\n",
              "    <tr>\n",
              "      <th>0</th>\n",
              "      <td>As U.S. budget fight looms, Republicans flip t...</td>\n",
              "      <td>WASHINGTON (Reuters) - The head of a conservat...</td>\n",
              "      <td>politicsNews</td>\n",
              "      <td>December 31, 2017</td>\n",
              "      <td>As U.S. budget fight looms, Republicans flip t...</td>\n",
              "      <td>1</td>\n",
              "    </tr>\n",
              "    <tr>\n",
              "      <th>1</th>\n",
              "      <td>U.S. military to accept transgender recruits o...</td>\n",
              "      <td>WASHINGTON (Reuters) - Transgender people will...</td>\n",
              "      <td>politicsNews</td>\n",
              "      <td>December 29, 2017</td>\n",
              "      <td>U.S. military to accept transgender recruits o...</td>\n",
              "      <td>1</td>\n",
              "    </tr>\n",
              "    <tr>\n",
              "      <th>2</th>\n",
              "      <td>Senior U.S. Republican senator: 'Let Mr. Muell...</td>\n",
              "      <td>WASHINGTON (Reuters) - The special counsel inv...</td>\n",
              "      <td>politicsNews</td>\n",
              "      <td>December 31, 2017</td>\n",
              "      <td>Senior U.S. Republican senator: 'Let Mr. Muell...</td>\n",
              "      <td>1</td>\n",
              "    </tr>\n",
              "    <tr>\n",
              "      <th>3</th>\n",
              "      <td>FBI Russia probe helped by Australian diplomat...</td>\n",
              "      <td>WASHINGTON (Reuters) - Trump campaign adviser ...</td>\n",
              "      <td>politicsNews</td>\n",
              "      <td>December 30, 2017</td>\n",
              "      <td>FBI Russia probe helped by Australian diplomat...</td>\n",
              "      <td>1</td>\n",
              "    </tr>\n",
              "    <tr>\n",
              "      <th>4</th>\n",
              "      <td>Trump wants Postal Service to charge 'much mor...</td>\n",
              "      <td>SEATTLE/WASHINGTON (Reuters) - President Donal...</td>\n",
              "      <td>politicsNews</td>\n",
              "      <td>December 29, 2017</td>\n",
              "      <td>Trump wants Postal Service to charge 'much mor...</td>\n",
              "      <td>1</td>\n",
              "    </tr>\n",
              "  </tbody>\n",
              "</table>\n",
              "</div>"
            ],
            "text/plain": [
              "                                               title  ... label\n",
              "0  As U.S. budget fight looms, Republicans flip t...  ...     1\n",
              "1  U.S. military to accept transgender recruits o...  ...     1\n",
              "2  Senior U.S. Republican senator: 'Let Mr. Muell...  ...     1\n",
              "3  FBI Russia probe helped by Australian diplomat...  ...     1\n",
              "4  Trump wants Postal Service to charge 'much mor...  ...     1\n",
              "\n",
              "[5 rows x 6 columns]"
            ]
          },
          "metadata": {
            "tags": []
          },
          "execution_count": 11
        }
      ]
    },
    {
      "cell_type": "code",
      "metadata": {
        "id": "XvbwUbXK8ppw",
        "colab_type": "code",
        "colab": {}
      },
      "source": [
        "news = pd.concat([true.iloc[:, 4:], fake.iloc[:, 4:]])\n",
        "sss = StratifiedShuffleSplit(n_splits=1, test_size=0.2, random_state=0)"
      ],
      "execution_count": null,
      "outputs": []
    },
    {
      "cell_type": "code",
      "metadata": {
        "id": "WCapgy6H9tZG",
        "colab_type": "code",
        "colab": {
          "base_uri": "https://localhost:8080/",
          "height": 34
        },
        "outputId": "cbfbf8f8-6756-450a-e711-91f392c3f71e"
      },
      "source": [
        "for train_index, test_index in sss.split(news.Text, news.label):\n",
        "     print(\"TRAIN:\", train_index, \"TEST:\", test_index)\n",
        "     X_train, X_test = news.iloc[train_index, 0], news.iloc[test_index, 0]\n",
        "     y_train, y_test = news.iloc[train_index, 1], news.iloc[test_index, 1]"
      ],
      "execution_count": null,
      "outputs": [
        {
          "output_type": "stream",
          "text": [
            "TRAIN: [25362 23734 28153 ... 34226 35226 29567] TEST: [37029 43919  6641 ... 29966 29894  1702]\n"
          ],
          "name": "stdout"
        }
      ]
    },
    {
      "cell_type": "code",
      "metadata": {
        "id": "jRCE0V0k-lnn",
        "colab_type": "code",
        "colab": {
          "base_uri": "https://localhost:8080/",
          "height": 34
        },
        "outputId": "cd6064c7-caca-41a6-d5df-30ab430b437b"
      },
      "source": [
        "print(X_train.shape, X_test.shape)"
      ],
      "execution_count": null,
      "outputs": [
        {
          "output_type": "stream",
          "text": [
            "(35918,) (8980,)\n"
          ],
          "name": "stdout"
        }
      ]
    },
    {
      "cell_type": "code",
      "metadata": {
        "id": "X6Aiqdpw_n8K",
        "colab_type": "code",
        "colab": {
          "base_uri": "https://localhost:8080/",
          "height": 34
        },
        "outputId": "cca080cf-419e-4733-f1cd-4eb593116745"
      },
      "source": [
        "max([len(i) for i in X_train])"
      ],
      "execution_count": null,
      "outputs": [
        {
          "output_type": "execute_result",
          "data": {
            "text/plain": [
              "51894"
            ]
          },
          "metadata": {
            "tags": []
          },
          "execution_count": 54
        }
      ]
    },
    {
      "cell_type": "code",
      "metadata": {
        "id": "DtzYudiE_1cL",
        "colab_type": "code",
        "colab": {
          "base_uri": "https://localhost:8080/",
          "height": 34
        },
        "outputId": "a357746f-6f3d-43d8-e737-94fc5483cfa2"
      },
      "source": [
        "min([len(i) for i in X_train])"
      ],
      "execution_count": null,
      "outputs": [
        {
          "output_type": "execute_result",
          "data": {
            "text/plain": [
              "32"
            ]
          },
          "metadata": {
            "tags": []
          },
          "execution_count": 55
        }
      ]
    },
    {
      "cell_type": "code",
      "metadata": {
        "id": "NGXl575vAgYS",
        "colab_type": "code",
        "colab": {
          "base_uri": "https://localhost:8080/",
          "height": 34
        },
        "outputId": "d5c523db-d343-4c9c-92cf-ad9aae35e3c0"
      },
      "source": [
        "sum([len(i) for i in X_train])/len(X_train)"
      ],
      "execution_count": null,
      "outputs": [
        {
          "output_type": "execute_result",
          "data": {
            "text/plain": [
              "2545.213541956679"
            ]
          },
          "metadata": {
            "tags": []
          },
          "execution_count": 56
        }
      ]
    },
    {
      "cell_type": "code",
      "metadata": {
        "id": "7NhJ3DRiAnvG",
        "colab_type": "code",
        "colab": {
          "base_uri": "https://localhost:8080/",
          "height": 34
        },
        "outputId": "f26013b0-6fc9-449f-acd7-1ec87e55fe8c"
      },
      "source": [
        "np.median([len(i) for i in X_train])"
      ],
      "execution_count": null,
      "outputs": [
        {
          "output_type": "execute_result",
          "data": {
            "text/plain": [
              "2269.5"
            ]
          },
          "metadata": {
            "tags": []
          },
          "execution_count": 63
        }
      ]
    },
    {
      "cell_type": "code",
      "metadata": {
        "id": "fVT5GcbSBCbE",
        "colab_type": "code",
        "colab": {
          "base_uri": "https://localhost:8080/",
          "height": 34
        },
        "outputId": "948b1319-9eee-4f33-8766-0edd941d0977"
      },
      "source": [
        "np.median([len(i) for i in X_test])"
      ],
      "execution_count": null,
      "outputs": [
        {
          "output_type": "execute_result",
          "data": {
            "text/plain": [
              "2278.0"
            ]
          },
          "metadata": {
            "tags": []
          },
          "execution_count": 64
        }
      ]
    },
    {
      "cell_type": "code",
      "metadata": {
        "id": "w4UBx8tXBGEG",
        "colab_type": "code",
        "colab": {}
      },
      "source": [
        "max_features = 10000\n",
        "maxlen = 300\n",
        "\n",
        "tokenizer = Tokenizer(num_words=max_features)\n",
        "tokenizer.fit_on_texts(X_train)\n",
        "tokenized_train = tokenizer.texts_to_sequences(X_train)\n",
        "X_train = pad_sequences(tokenized_train, maxlen=maxlen)\n",
        "\n",
        "tokenized_test = tokenizer.texts_to_sequences(X_test)\n",
        "X_test = pad_sequences(tokenized_test, maxlen=maxlen)"
      ],
      "execution_count": null,
      "outputs": []
    },
    {
      "cell_type": "code",
      "metadata": {
        "id": "HMwJJhifCHmV",
        "colab_type": "code",
        "colab": {}
      },
      "source": [
        "EMBEDDING_FILE = 'glove.twitter.27B.100d.txt'"
      ],
      "execution_count": null,
      "outputs": []
    },
    {
      "cell_type": "code",
      "metadata": {
        "id": "BHcXF5FyIGQO",
        "colab_type": "code",
        "colab": {}
      },
      "source": [
        "def get_coefs(word, *arr): \n",
        "    return word, np.asarray(arr, dtype='float32')\n",
        "embeddings_index = dict(get_coefs(*o.rstrip().rsplit(' ')) for o in open(EMBEDDING_FILE))"
      ],
      "execution_count": null,
      "outputs": []
    },
    {
      "cell_type": "code",
      "metadata": {
        "id": "s3CkzRc-IGvd",
        "colab_type": "code",
        "colab": {
          "base_uri": "https://localhost:8080/",
          "height": 71
        },
        "outputId": "26cc81c7-ab93-4ff3-9005-3bbb2e8d1759"
      },
      "source": [
        "all_embs = np.stack(embeddings_index.values())\n",
        "emb_mean,emb_std = all_embs.mean(), all_embs.std()\n",
        "embed_size = all_embs.shape[1]\n",
        "\n",
        "word_index = tokenizer.word_index\n",
        "nb_words = min(max_features, len(word_index))\n",
        "#change below line if computing normal stats is too slow\n",
        "embedding_matrix = embedding_matrix = np.random.normal(emb_mean, emb_std, (nb_words, embed_size))\n",
        "for word, i in word_index.items():\n",
        "    if i >= max_features: continue\n",
        "    embedding_vector = embeddings_index.get(word)\n",
        "    if embedding_vector is not None: embedding_matrix[i] = embedding_vector"
      ],
      "execution_count": null,
      "outputs": [
        {
          "output_type": "stream",
          "text": [
            "/usr/local/lib/python3.6/dist-packages/IPython/core/interactiveshell.py:2822: FutureWarning: arrays to stack must be passed as a \"sequence\" type such as list or tuple. Support for non-sequence iterables such as generators is deprecated as of NumPy 1.16 and will raise an error in the future.\n",
            "  if self.run_code(code, result):\n"
          ],
          "name": "stderr"
        }
      ]
    },
    {
      "cell_type": "code",
      "metadata": {
        "id": "MZEq_VOvIZ30",
        "colab_type": "code",
        "colab": {}
      },
      "source": [
        "batch_size = 256\n",
        "epochs = 100\n",
        "embed_size = 100"
      ],
      "execution_count": null,
      "outputs": []
    },
    {
      "cell_type": "code",
      "metadata": {
        "id": "g93z6neeIhOH",
        "colab_type": "code",
        "colab": {}
      },
      "source": [
        "#Defining Neural Network\n",
        "model = Sequential()\n",
        "#Non-trainable embeddidng layer\n",
        "model.add(Embedding(max_features, output_dim=embed_size, weights=[embedding_matrix], input_length=maxlen, trainable=False))\n",
        "#LSTM \n",
        "model.add(LSTM(units=128 , return_sequences = True))\n",
        "model.add(Dropout(0.2))\n",
        "model.add(LSTM(units=64))\n",
        "model.add(Dropout(0.1))\n",
        "model.add(Dense(units = 32 , activation = 'relu'))\n",
        "model.add(Dense(1, activation='sigmoid'))\n",
        "model.compile(optimizer='adam', loss='binary_crossentropy', metrics=['accuracy'])"
      ],
      "execution_count": null,
      "outputs": []
    },
    {
      "cell_type": "code",
      "metadata": {
        "id": "gqxX3CGvJGyL",
        "colab_type": "code",
        "colab": {
          "base_uri": "https://localhost:8080/",
          "height": 391
        },
        "outputId": "70ef2fd6-f490-4f1d-c713-31153f717283"
      },
      "source": [
        "model.summary()"
      ],
      "execution_count": null,
      "outputs": [
        {
          "output_type": "stream",
          "text": [
            "Model: \"sequential_1\"\n",
            "_________________________________________________________________\n",
            "Layer (type)                 Output Shape              Param #   \n",
            "=================================================================\n",
            "embedding_1 (Embedding)      (None, 300, 100)          1000000   \n",
            "_________________________________________________________________\n",
            "lstm_2 (LSTM)                (None, 300, 128)          117248    \n",
            "_________________________________________________________________\n",
            "dropout_2 (Dropout)          (None, 300, 128)          0         \n",
            "_________________________________________________________________\n",
            "lstm_3 (LSTM)                (None, 64)                49408     \n",
            "_________________________________________________________________\n",
            "dropout_3 (Dropout)          (None, 64)                0         \n",
            "_________________________________________________________________\n",
            "dense_2 (Dense)              (None, 32)                2080      \n",
            "_________________________________________________________________\n",
            "dense_3 (Dense)              (None, 1)                 33        \n",
            "=================================================================\n",
            "Total params: 1,168,769\n",
            "Trainable params: 168,769\n",
            "Non-trainable params: 1,000,000\n",
            "_________________________________________________________________\n"
          ],
          "name": "stdout"
        }
      ]
    },
    {
      "cell_type": "code",
      "metadata": {
        "id": "YwIrGXKtJMPI",
        "colab_type": "code",
        "colab": {
          "base_uri": "https://localhost:8080/",
          "height": 1000
        },
        "outputId": "9ae33f91-e74a-4349-a4bd-35086c3aab4d"
      },
      "source": [
        "history = model.fit(X_train, y_train, batch_size = batch_size , validation_data = (X_test,y_test) , epochs = epochs)"
      ],
      "execution_count": null,
      "outputs": [
        {
          "output_type": "stream",
          "text": [
            "Epoch 1/100\n",
            "141/141 [==============================] - 10s 72ms/step - loss: 0.2775 - accuracy: 0.8899 - val_loss: 0.2388 - val_accuracy: 0.9049\n",
            "Epoch 2/100\n",
            "141/141 [==============================] - 9s 67ms/step - loss: 0.1515 - accuracy: 0.9455 - val_loss: 0.1533 - val_accuracy: 0.9452\n",
            "Epoch 3/100\n",
            "141/141 [==============================] - 9s 67ms/step - loss: 0.1600 - accuracy: 0.9425 - val_loss: 0.2835 - val_accuracy: 0.9144\n",
            "Epoch 4/100\n",
            "141/141 [==============================] - 9s 67ms/step - loss: 0.1296 - accuracy: 0.9565 - val_loss: 0.1168 - val_accuracy: 0.9588\n",
            "Epoch 5/100\n",
            "141/141 [==============================] - 9s 67ms/step - loss: 0.1381 - accuracy: 0.9541 - val_loss: 0.0907 - val_accuracy: 0.9714\n",
            "Epoch 6/100\n",
            "141/141 [==============================] - 9s 67ms/step - loss: 0.0967 - accuracy: 0.9693 - val_loss: 0.0973 - val_accuracy: 0.9699\n",
            "Epoch 7/100\n",
            "141/141 [==============================] - 9s 67ms/step - loss: 0.0714 - accuracy: 0.9776 - val_loss: 0.0564 - val_accuracy: 0.9807\n",
            "Epoch 8/100\n",
            "141/141 [==============================] - 9s 67ms/step - loss: 0.0718 - accuracy: 0.9758 - val_loss: 0.0642 - val_accuracy: 0.9811\n",
            "Epoch 9/100\n",
            "141/141 [==============================] - 9s 67ms/step - loss: 0.0568 - accuracy: 0.9808 - val_loss: 0.0612 - val_accuracy: 0.9816\n",
            "Epoch 10/100\n",
            "141/141 [==============================] - 9s 67ms/step - loss: 0.0541 - accuracy: 0.9801 - val_loss: 0.1059 - val_accuracy: 0.9713\n",
            "Epoch 11/100\n",
            "141/141 [==============================] - 9s 67ms/step - loss: 0.0652 - accuracy: 0.9785 - val_loss: 0.0420 - val_accuracy: 0.9871\n",
            "Epoch 12/100\n",
            "141/141 [==============================] - 9s 67ms/step - loss: 0.0460 - accuracy: 0.9840 - val_loss: 0.0558 - val_accuracy: 0.9813\n",
            "Epoch 13/100\n",
            "141/141 [==============================] - 9s 67ms/step - loss: 0.0407 - accuracy: 0.9866 - val_loss: 0.0344 - val_accuracy: 0.9872\n",
            "Epoch 14/100\n",
            "141/141 [==============================] - 9s 67ms/step - loss: 0.0286 - accuracy: 0.9905 - val_loss: 0.0287 - val_accuracy: 0.9892\n",
            "Epoch 15/100\n",
            "141/141 [==============================] - 9s 67ms/step - loss: 0.0231 - accuracy: 0.9923 - val_loss: 0.0239 - val_accuracy: 0.9920\n",
            "Epoch 16/100\n",
            "141/141 [==============================] - 9s 67ms/step - loss: 0.0194 - accuracy: 0.9936 - val_loss: 0.0330 - val_accuracy: 0.9915\n",
            "Epoch 17/100\n",
            "141/141 [==============================] - 9s 67ms/step - loss: 0.0227 - accuracy: 0.9923 - val_loss: 0.0250 - val_accuracy: 0.9922\n",
            "Epoch 18/100\n",
            "141/141 [==============================] - 9s 67ms/step - loss: 0.0415 - accuracy: 0.9872 - val_loss: 0.0501 - val_accuracy: 0.9849\n",
            "Epoch 19/100\n",
            "141/141 [==============================] - 9s 67ms/step - loss: 0.0247 - accuracy: 0.9918 - val_loss: 0.0228 - val_accuracy: 0.9925\n",
            "Epoch 20/100\n",
            "141/141 [==============================] - 9s 67ms/step - loss: 0.0183 - accuracy: 0.9941 - val_loss: 0.0225 - val_accuracy: 0.9931\n",
            "Epoch 21/100\n",
            "141/141 [==============================] - 9s 67ms/step - loss: 0.0144 - accuracy: 0.9955 - val_loss: 0.0218 - val_accuracy: 0.9928\n",
            "Epoch 22/100\n",
            "141/141 [==============================] - 9s 67ms/step - loss: 0.0133 - accuracy: 0.9958 - val_loss: 0.0185 - val_accuracy: 0.9933\n",
            "Epoch 23/100\n",
            "141/141 [==============================] - 9s 67ms/step - loss: 0.0110 - accuracy: 0.9966 - val_loss: 0.0267 - val_accuracy: 0.9919\n",
            "Epoch 24/100\n",
            "141/141 [==============================] - 9s 67ms/step - loss: 0.0101 - accuracy: 0.9968 - val_loss: 0.0189 - val_accuracy: 0.9942\n",
            "Epoch 25/100\n",
            "141/141 [==============================] - 9s 67ms/step - loss: 0.0099 - accuracy: 0.9969 - val_loss: 0.0277 - val_accuracy: 0.9924\n",
            "Epoch 26/100\n",
            "141/141 [==============================] - 9s 67ms/step - loss: 0.0087 - accuracy: 0.9971 - val_loss: 0.0316 - val_accuracy: 0.9894\n",
            "Epoch 27/100\n",
            "141/141 [==============================] - 9s 67ms/step - loss: 0.0088 - accuracy: 0.9972 - val_loss: 0.0176 - val_accuracy: 0.9953\n",
            "Epoch 28/100\n",
            "141/141 [==============================] - 9s 67ms/step - loss: 0.0063 - accuracy: 0.9980 - val_loss: 0.0154 - val_accuracy: 0.9961\n",
            "Epoch 29/100\n",
            "141/141 [==============================] - 10s 67ms/step - loss: 0.0049 - accuracy: 0.9986 - val_loss: 0.0177 - val_accuracy: 0.9951\n",
            "Epoch 30/100\n",
            "141/141 [==============================] - 9s 67ms/step - loss: 0.0041 - accuracy: 0.9987 - val_loss: 0.0150 - val_accuracy: 0.9957\n",
            "Epoch 31/100\n",
            "141/141 [==============================] - 9s 67ms/step - loss: 0.0045 - accuracy: 0.9986 - val_loss: 0.0222 - val_accuracy: 0.9951\n",
            "Epoch 32/100\n",
            "141/141 [==============================] - 9s 67ms/step - loss: 0.0053 - accuracy: 0.9982 - val_loss: 0.0201 - val_accuracy: 0.9942\n",
            "Epoch 33/100\n",
            "141/141 [==============================] - 9s 67ms/step - loss: 0.0041 - accuracy: 0.9986 - val_loss: 0.0165 - val_accuracy: 0.9957\n",
            "Epoch 34/100\n",
            "141/141 [==============================] - 9s 67ms/step - loss: 0.0112 - accuracy: 0.9963 - val_loss: 0.0153 - val_accuracy: 0.9950\n",
            "Epoch 35/100\n",
            "141/141 [==============================] - 9s 67ms/step - loss: 0.0045 - accuracy: 0.9989 - val_loss: 0.0149 - val_accuracy: 0.9968\n",
            "Epoch 36/100\n",
            "141/141 [==============================] - 10s 67ms/step - loss: 0.0027 - accuracy: 0.9993 - val_loss: 0.0200 - val_accuracy: 0.9951\n",
            "Epoch 37/100\n",
            "141/141 [==============================] - 9s 67ms/step - loss: 0.0017 - accuracy: 0.9994 - val_loss: 0.0156 - val_accuracy: 0.9969\n",
            "Epoch 38/100\n",
            "141/141 [==============================] - 9s 67ms/step - loss: 0.0044 - accuracy: 0.9982 - val_loss: 0.0184 - val_accuracy: 0.9953\n",
            "Epoch 39/100\n",
            "141/141 [==============================] - 9s 67ms/step - loss: 9.9945e-04 - accuracy: 0.9997 - val_loss: 0.0168 - val_accuracy: 0.9964\n",
            "Epoch 40/100\n",
            "141/141 [==============================] - 9s 67ms/step - loss: 0.0014 - accuracy: 0.9996 - val_loss: 0.0156 - val_accuracy: 0.9959\n",
            "Epoch 41/100\n",
            "141/141 [==============================] - 9s 67ms/step - loss: 0.0012 - accuracy: 0.9996 - val_loss: 0.0173 - val_accuracy: 0.9963\n",
            "Epoch 42/100\n",
            "141/141 [==============================] - 9s 67ms/step - loss: 0.0020 - accuracy: 0.9993 - val_loss: 0.0175 - val_accuracy: 0.9962\n",
            "Epoch 43/100\n",
            "141/141 [==============================] - 9s 67ms/step - loss: 0.0011 - accuracy: 0.9997 - val_loss: 0.0204 - val_accuracy: 0.9961\n",
            "Epoch 44/100\n",
            "141/141 [==============================] - 9s 67ms/step - loss: 3.9561e-04 - accuracy: 0.9999 - val_loss: 0.0185 - val_accuracy: 0.9962\n",
            "Epoch 45/100\n",
            "141/141 [==============================] - 10s 67ms/step - loss: 2.5493e-04 - accuracy: 0.9999 - val_loss: 0.0190 - val_accuracy: 0.9965\n",
            "Epoch 46/100\n",
            "141/141 [==============================] - 9s 67ms/step - loss: 0.0027 - accuracy: 0.9990 - val_loss: 0.0218 - val_accuracy: 0.9952\n",
            "Epoch 47/100\n",
            "141/141 [==============================] - 9s 67ms/step - loss: 0.0030 - accuracy: 0.9990 - val_loss: 0.0145 - val_accuracy: 0.9965\n",
            "Epoch 48/100\n",
            "141/141 [==============================] - 9s 67ms/step - loss: 4.4669e-04 - accuracy: 0.9998 - val_loss: 0.0211 - val_accuracy: 0.9961\n",
            "Epoch 49/100\n",
            "141/141 [==============================] - 9s 67ms/step - loss: 0.0030 - accuracy: 0.9990 - val_loss: 0.0198 - val_accuracy: 0.9959\n",
            "Epoch 50/100\n",
            "141/141 [==============================] - 9s 67ms/step - loss: 0.0019 - accuracy: 0.9994 - val_loss: 0.0306 - val_accuracy: 0.9930\n",
            "Epoch 51/100\n",
            "141/141 [==============================] - 9s 67ms/step - loss: 0.0038 - accuracy: 0.9986 - val_loss: 0.0179 - val_accuracy: 0.9958\n",
            "Epoch 52/100\n",
            "141/141 [==============================] - 10s 67ms/step - loss: 6.7399e-04 - accuracy: 0.9998 - val_loss: 0.0154 - val_accuracy: 0.9963\n",
            "Epoch 53/100\n",
            "141/141 [==============================] - 9s 67ms/step - loss: 4.5410e-04 - accuracy: 0.9999 - val_loss: 0.0193 - val_accuracy: 0.9963\n",
            "Epoch 54/100\n",
            "141/141 [==============================] - 9s 67ms/step - loss: 4.7282e-04 - accuracy: 0.9999 - val_loss: 0.0181 - val_accuracy: 0.9968\n",
            "Epoch 55/100\n",
            "141/141 [==============================] - 9s 67ms/step - loss: 7.8056e-05 - accuracy: 1.0000 - val_loss: 0.0186 - val_accuracy: 0.9968\n",
            "Epoch 56/100\n",
            "141/141 [==============================] - 9s 67ms/step - loss: 0.0047 - accuracy: 0.9986 - val_loss: 0.0185 - val_accuracy: 0.9950\n",
            "Epoch 57/100\n",
            "141/141 [==============================] - 9s 67ms/step - loss: 4.3416e-04 - accuracy: 0.9999 - val_loss: 0.0178 - val_accuracy: 0.9962\n",
            "Epoch 58/100\n",
            "141/141 [==============================] - 9s 67ms/step - loss: 6.0513e-04 - accuracy: 0.9999 - val_loss: 0.0232 - val_accuracy: 0.9960\n",
            "Epoch 59/100\n",
            "141/141 [==============================] - 9s 67ms/step - loss: 1.0118e-04 - accuracy: 1.0000 - val_loss: 0.0197 - val_accuracy: 0.9961\n",
            "Epoch 60/100\n",
            "141/141 [==============================] - 9s 67ms/step - loss: 4.9259e-05 - accuracy: 1.0000 - val_loss: 0.0200 - val_accuracy: 0.9963\n",
            "Epoch 61/100\n",
            "141/141 [==============================] - 10s 67ms/step - loss: 4.8768e-05 - accuracy: 1.0000 - val_loss: 0.0225 - val_accuracy: 0.9962\n",
            "Epoch 62/100\n",
            "141/141 [==============================] - 9s 67ms/step - loss: 2.5453e-05 - accuracy: 1.0000 - val_loss: 0.0215 - val_accuracy: 0.9962\n",
            "Epoch 63/100\n",
            "141/141 [==============================] - 9s 67ms/step - loss: 2.1756e-04 - accuracy: 0.9999 - val_loss: 0.0216 - val_accuracy: 0.9960\n",
            "Epoch 64/100\n",
            "141/141 [==============================] - 9s 67ms/step - loss: 0.0040 - accuracy: 0.9988 - val_loss: 0.0133 - val_accuracy: 0.9967\n",
            "Epoch 65/100\n",
            "141/141 [==============================] - 9s 67ms/step - loss: 8.7083e-04 - accuracy: 0.9997 - val_loss: 0.0185 - val_accuracy: 0.9957\n",
            "Epoch 66/100\n",
            "141/141 [==============================] - 9s 67ms/step - loss: 7.7963e-04 - accuracy: 0.9997 - val_loss: 0.0170 - val_accuracy: 0.9961\n",
            "Epoch 67/100\n",
            "141/141 [==============================] - 9s 67ms/step - loss: 1.6722e-04 - accuracy: 1.0000 - val_loss: 0.0169 - val_accuracy: 0.9968\n",
            "Epoch 68/100\n",
            "141/141 [==============================] - 9s 67ms/step - loss: 3.4127e-05 - accuracy: 1.0000 - val_loss: 0.0178 - val_accuracy: 0.9963\n",
            "Epoch 69/100\n",
            "141/141 [==============================] - 9s 67ms/step - loss: 2.1100e-05 - accuracy: 1.0000 - val_loss: 0.0181 - val_accuracy: 0.9962\n",
            "Epoch 70/100\n",
            "141/141 [==============================] - 9s 67ms/step - loss: 3.3838e-04 - accuracy: 0.9998 - val_loss: 0.0278 - val_accuracy: 0.9951\n",
            "Epoch 71/100\n",
            "141/141 [==============================] - 9s 67ms/step - loss: 0.0024 - accuracy: 0.9993 - val_loss: 0.0189 - val_accuracy: 0.9958\n",
            "Epoch 72/100\n",
            "141/141 [==============================] - 9s 67ms/step - loss: 7.5236e-04 - accuracy: 0.9998 - val_loss: 0.0249 - val_accuracy: 0.9950\n",
            "Epoch 73/100\n",
            "141/141 [==============================] - 9s 67ms/step - loss: 1.4551e-04 - accuracy: 1.0000 - val_loss: 0.0192 - val_accuracy: 0.9964\n",
            "Epoch 74/100\n",
            "141/141 [==============================] - 9s 67ms/step - loss: 2.3852e-05 - accuracy: 1.0000 - val_loss: 0.0209 - val_accuracy: 0.9963\n",
            "Epoch 75/100\n",
            "141/141 [==============================] - 9s 67ms/step - loss: 3.9956e-05 - accuracy: 1.0000 - val_loss: 0.0214 - val_accuracy: 0.9961\n",
            "Epoch 76/100\n",
            "141/141 [==============================] - 9s 67ms/step - loss: 9.2657e-06 - accuracy: 1.0000 - val_loss: 0.0226 - val_accuracy: 0.9961\n",
            "Epoch 77/100\n",
            "141/141 [==============================] - 9s 67ms/step - loss: 1.0531e-05 - accuracy: 1.0000 - val_loss: 0.0224 - val_accuracy: 0.9963\n",
            "Epoch 78/100\n",
            "141/141 [==============================] - 9s 67ms/step - loss: 8.2555e-06 - accuracy: 1.0000 - val_loss: 0.0234 - val_accuracy: 0.9962\n",
            "Epoch 79/100\n",
            "141/141 [==============================] - 9s 67ms/step - loss: 7.4727e-06 - accuracy: 1.0000 - val_loss: 0.0242 - val_accuracy: 0.9963\n",
            "Epoch 80/100\n",
            "141/141 [==============================] - 9s 67ms/step - loss: 7.1023e-06 - accuracy: 1.0000 - val_loss: 0.0244 - val_accuracy: 0.9963\n",
            "Epoch 81/100\n",
            "141/141 [==============================] - 9s 67ms/step - loss: 6.0136e-06 - accuracy: 1.0000 - val_loss: 0.0253 - val_accuracy: 0.9964\n",
            "Epoch 82/100\n",
            "141/141 [==============================] - 9s 67ms/step - loss: 6.3372e-06 - accuracy: 1.0000 - val_loss: 0.0246 - val_accuracy: 0.9963\n",
            "Epoch 83/100\n",
            "141/141 [==============================] - 9s 67ms/step - loss: 4.6804e-06 - accuracy: 1.0000 - val_loss: 0.0255 - val_accuracy: 0.9964\n",
            "Epoch 84/100\n",
            "141/141 [==============================] - 9s 67ms/step - loss: 9.2765e-06 - accuracy: 1.0000 - val_loss: 0.0254 - val_accuracy: 0.9961\n",
            "Epoch 85/100\n",
            "141/141 [==============================] - 9s 67ms/step - loss: 6.0827e-06 - accuracy: 1.0000 - val_loss: 0.0242 - val_accuracy: 0.9965\n",
            "Epoch 86/100\n",
            "141/141 [==============================] - 9s 67ms/step - loss: 2.6133e-06 - accuracy: 1.0000 - val_loss: 0.0244 - val_accuracy: 0.9968\n",
            "Epoch 87/100\n",
            "141/141 [==============================] - 9s 67ms/step - loss: 1.8105e-06 - accuracy: 1.0000 - val_loss: 0.0247 - val_accuracy: 0.9968\n",
            "Epoch 88/100\n",
            "141/141 [==============================] - 9s 67ms/step - loss: 3.8146e-06 - accuracy: 1.0000 - val_loss: 0.0250 - val_accuracy: 0.9965\n",
            "Epoch 89/100\n",
            "141/141 [==============================] - 9s 67ms/step - loss: 1.6665e-06 - accuracy: 1.0000 - val_loss: 0.0248 - val_accuracy: 0.9965\n",
            "Epoch 90/100\n",
            "141/141 [==============================] - 9s 67ms/step - loss: 1.3582e-06 - accuracy: 1.0000 - val_loss: 0.0250 - val_accuracy: 0.9965\n",
            "Epoch 91/100\n",
            "141/141 [==============================] - 9s 67ms/step - loss: 4.2475e-06 - accuracy: 1.0000 - val_loss: 0.0306 - val_accuracy: 0.9962\n",
            "Epoch 92/100\n",
            "141/141 [==============================] - 9s 67ms/step - loss: 0.0064 - accuracy: 0.9980 - val_loss: 0.0177 - val_accuracy: 0.9947\n",
            "Epoch 93/100\n",
            "141/141 [==============================] - 9s 67ms/step - loss: 0.0030 - accuracy: 0.9990 - val_loss: 0.0180 - val_accuracy: 0.9968\n",
            "Epoch 94/100\n",
            "141/141 [==============================] - 9s 67ms/step - loss: 5.9188e-04 - accuracy: 0.9999 - val_loss: 0.0190 - val_accuracy: 0.9957\n",
            "Epoch 95/100\n",
            "141/141 [==============================] - 9s 67ms/step - loss: 5.7123e-04 - accuracy: 0.9998 - val_loss: 0.0184 - val_accuracy: 0.9960\n",
            "Epoch 96/100\n",
            "141/141 [==============================] - 9s 67ms/step - loss: 1.9809e-04 - accuracy: 0.9999 - val_loss: 0.0169 - val_accuracy: 0.9965\n",
            "Epoch 97/100\n",
            "141/141 [==============================] - 9s 67ms/step - loss: 5.0696e-05 - accuracy: 1.0000 - val_loss: 0.0193 - val_accuracy: 0.9964\n",
            "Epoch 98/100\n",
            "141/141 [==============================] - 9s 67ms/step - loss: 4.4192e-05 - accuracy: 1.0000 - val_loss: 0.0195 - val_accuracy: 0.9965\n",
            "Epoch 99/100\n",
            "141/141 [==============================] - 9s 67ms/step - loss: 1.8412e-05 - accuracy: 1.0000 - val_loss: 0.0195 - val_accuracy: 0.9963\n",
            "Epoch 100/100\n",
            "141/141 [==============================] - 9s 67ms/step - loss: 3.9902e-05 - accuracy: 1.0000 - val_loss: 0.0239 - val_accuracy: 0.9957\n"
          ],
          "name": "stdout"
        }
      ]
    },
    {
      "cell_type": "code",
      "metadata": {
        "id": "nyf8ywgXOyYH",
        "colab_type": "code",
        "colab": {
          "base_uri": "https://localhost:8080/",
          "height": 34
        },
        "outputId": "10dad800-e0a7-4d33-d8b4-73dfa2443e82"
      },
      "source": [
        "len(epochs)"
      ],
      "execution_count": null,
      "outputs": [
        {
          "output_type": "execute_result",
          "data": {
            "text/plain": [
              "10"
            ]
          },
          "metadata": {
            "tags": []
          },
          "execution_count": 34
        }
      ]
    },
    {
      "cell_type": "code",
      "metadata": {
        "id": "I8hFgDrNJf8s",
        "colab_type": "code",
        "colab": {
          "base_uri": "https://localhost:8080/",
          "height": 621
        },
        "outputId": "e583b74f-d236-4494-d060-877b2a62ab65"
      },
      "source": [
        "epochs = [i for i in range(100)]\n",
        "fig , ax = plt.subplots(1,2)\n",
        "train_acc = history.history['accuracy']\n",
        "train_loss = history.history['loss']\n",
        "val_acc = history.history['val_accuracy']\n",
        "val_loss = history.history['val_loss']\n",
        "fig.set_size_inches(20,10)\n",
        "\n",
        "ax[0].plot(epochs , train_acc , 'go-' , label = 'Training Accuracy')\n",
        "ax[0].plot(epochs , val_acc , 'ro-' , label = 'Testing Accuracy')\n",
        "ax[0].set_title('Training & Testing Accuracy')\n",
        "ax[0].legend()\n",
        "ax[0].set_xlabel(\"Epochs\")\n",
        "ax[0].set_ylabel(\"Accuracy\")\n",
        "\n",
        "ax[1].plot(epochs , train_loss , 'go-' , label = 'Training Loss')\n",
        "ax[1].plot(epochs , val_loss , 'ro-' , label = 'Testing Loss')\n",
        "ax[1].set_title('Training & Testing Loss')\n",
        "ax[1].legend()\n",
        "ax[1].set_xlabel(\"Epochs\")\n",
        "ax[1].set_ylabel(\"Loss\")\n",
        "plt.show()"
      ],
      "execution_count": null,
      "outputs": [
        {
          "output_type": "display_data",
          "data": {
            "image/png": "[encoded data removed]",
            "text/plain": [
              "<Figure size 1440x720 with 2 Axes>"
            ]
          },
          "metadata": {
            "tags": [],
            "needs_background": "light"
          }
        }
      ]
    },
    {
      "cell_type": "code",
      "metadata": {
        "id": "pqS3p0a5QmSl",
        "colab_type": "code",
        "colab": {}
      },
      "source": [
        "import os"
      ],
      "execution_count": null,
      "outputs": []
    },
    {
      "cell_type": "code",
      "metadata": {
        "id": "xWiCWmVjKt8s",
        "colab_type": "code",
        "colab": {
          "base_uri": "https://localhost:8080/",
          "height": 105
        },
        "outputId": "6f7b6dd5-004f-4c1f-8ba9-506f873938ab"
      },
      "source": [
        "save_path = os.path.join(\"model/\")\n",
        "tf.saved_model.save(model, save_path)"
      ],
      "execution_count": null,
      "outputs": [
        {
          "output_type": "stream",
          "text": [
            "WARNING:tensorflow:From /usr/local/lib/python3.6/dist-packages/tensorflow/python/ops/resource_variable_ops.py:1817: calling BaseResourceVariable.__init__ (from tensorflow.python.ops.resource_variable_ops) with constraint is deprecated and will be removed in a future version.\n",
            "Instructions for updating:\n",
            "If using Keras pass *_constraint arguments to layers.\n",
            "INFO:tensorflow:Assets written to: model/assets\n"
          ],
          "name": "stdout"
        }
      ]
    },
    {
      "cell_type": "code",
      "metadata": {
        "id": "KE9ibDVCQhAX",
        "colab_type": "code",
        "colab": {
          "base_uri": "https://localhost:8080/",
          "height": 34
        },
        "outputId": "10950a4f-b44d-4ea7-d30b-eedff579e040"
      },
      "source": [
        "ls model/variables  "
      ],
      "execution_count": null,
      "outputs": [
        {
          "output_type": "stream",
          "text": [
            "variables.data-00000-of-00002  variables.data-00001-of-00002  variables.index\n"
          ],
          "name": "stdout"
        }
      ]
    },
    {
      "cell_type": "markdown",
      "metadata": {
        "id": "CP50z1X5_FH1",
        "colab_type": "text"
      },
      "source": [
        "# Loading the model for evaluating it "
      ]
    },
    {
      "cell_type": "code",
      "metadata": {
        "id": "6ueCZTkq_NVM",
        "colab_type": "code",
        "colab": {
          "base_uri": "https://localhost:8080/",
          "height": 34
        },
        "outputId": "d4b0f1d8-70b0-45e8-95c5-2e55b447fa91"
      },
      "source": [
        "fake = pd.read_csv('/content/drive/My Drive/Colab Notebooks/dataset/Fake.csv')\n",
        "true = pd.read_csv('/content/drive/My Drive/Colab Notebooks/dataset/True.csv')\n",
        "\n",
        "fake['Text'] = (fake.title +'. ' + fake.text)\n",
        "true['Text'] = true.title + '. ' + true.text\n",
        "\n",
        "fake['label'] = 0\n",
        "true['label'] = 1\n",
        "\n",
        "news = pd.concat([true.iloc[:, 4:], fake.iloc[:, 4:]])\n",
        "sss = StratifiedShuffleSplit(n_splits=1, test_size=0.2, random_state=0)\n",
        "\n",
        "for train_index, test_index in sss.split(news.Text, news.label):\n",
        "     print(\"TRAIN:\", train_index, \"TEST:\", test_index)\n",
        "     X_train, X_test = news.iloc[train_index, 0], news.iloc[test_index, 0]\n",
        "     y_train, y_test = news.iloc[train_index, 1], news.iloc[test_index, 1]\n",
        "\n",
        "max_features = 10000\n",
        "maxlen = 300\n",
        "\n",
        "tokenizer = Tokenizer(num_words=max_features)\n",
        "tokenizer.fit_on_texts(X_train)\n",
        "tokenized_train = tokenizer.texts_to_sequences(X_train)\n",
        "X_train = pad_sequences(tokenized_train, maxlen=maxlen)"
      ],
      "execution_count": null,
      "outputs": [
        {
          "output_type": "stream",
          "text": [
            "TRAIN: [25362 23734 28153 ... 34226 35226 29567] TEST: [37029 43919  6641 ... 29966 29894  1702]\n"
          ],
          "name": "stdout"
        }
      ]
    },
    {
      "cell_type": "code",
      "metadata": {
        "id": "i_0TR1T6A7Q0",
        "colab_type": "code",
        "colab": {}
      },
      "source": [
        "X_test = pd.read_csv('Cure tagged- sample.csv', encoding = \"utf-8\")['tweet']\n",
        "tokenized_test = tokenizer.texts_to_sequences(X_test)\n",
        "X_test = pad_sequences(tokenized_test, maxlen=maxlen)"
      ],
      "execution_count": null,
      "outputs": []
    },
    {
      "cell_type": "code",
      "metadata": {
        "id": "0AtXUqFzDNhk",
        "colab_type": "code",
        "colab": {}
      },
      "source": [
        "new_model = tf.keras.models.load_model('/content/drive/My Drive/Colab Notebooks/dataset/model')"
      ],
      "execution_count": null,
      "outputs": []
    },
    {
      "cell_type": "code",
      "metadata": {
        "id": "8P9IZJRuG-1u",
        "colab_type": "code",
        "colab": {}
      },
      "source": [
        "y_pred = new_model.predict(X_test)"
      ],
      "execution_count": null,
      "outputs": []
    },
    {
      "cell_type": "code",
      "metadata": {
        "id": "GnWDLjnYHFfL",
        "colab_type": "code",
        "colab": {}
      },
      "source": [
        "y_pred = pd.DataFrame(y_pred)"
      ],
      "execution_count": null,
      "outputs": []
    },
    {
      "cell_type": "code",
      "metadata": {
        "id": "nrTO9jVeHN_h",
        "colab_type": "code",
        "colab": {}
      },
      "source": [
        "y_pred.to_csv('Predictions.csv')"
      ],
      "execution_count": null,
      "outputs": []
    },
    {
      "cell_type": "code",
      "metadata": {
        "id": "yPB4S2XwD0p-",
        "colab_type": "code",
        "colab": {
          "base_uri": "https://localhost:8080/",
          "height": 50
        },
        "outputId": "b80608cd-d6d2-4b31-fdb0-ab470ddc879e"
      },
      "source": [
        "loss, acc = new_model.evaluate(X_test,  np.array([0]*len(X_test)), verbose=2, )\n",
        "print('Restored model, accuracy: {:5.2f}%'.format(100*acc))\n",
        "\n",
        "# print(new_model.predict(test_images).shape)"
      ],
      "execution_count": null,
      "outputs": [
        {
          "output_type": "stream",
          "text": [
            "56/56 - 2s - loss: 0.0127 - accuracy: 0.9989\n",
            "Restored model, accuracy: 99.89%\n"
          ],
          "name": "stdout"
        }
      ]
    },
    {
      "cell_type": "code",
      "metadata": {
        "id": "QgNuARmXHlZm",
        "colab_type": "code",
        "colab": {
          "base_uri": "https://localhost:8080/",
          "height": 282
        },
        "outputId": "c612adee-01f3-4bee-9428-dba1baed533f"
      },
      "source": [
        "(y_pred).plot()"
      ],
      "execution_count": null,
      "outputs": [
        {
          "output_type": "execute_result",
          "data": {
            "text/plain": [
              "<matplotlib.axes._subplots.AxesSubplot at 0x7efc6a8d5400>"
            ]
          },
          "metadata": {
            "tags": []
          },
          "execution_count": 27
        },
        {
          "output_type": "display_data",
          "data": {
            "image/png": "[encoded data removed]",
            "text/plain": [
              "<Figure size 432x288 with 1 Axes>"
            ]
          },
          "metadata": {
            "tags": [],
            "needs_background": "light"
          }
        }
      ]
    },
    {
      "cell_type": "markdown",
      "metadata": {
        "id": "5W8eAjpr8EDd",
        "colab_type": "text"
      },
      "source": [
        "# Running Saved Model on huge Data"
      ]
    },
    {
      "cell_type": "code",
      "metadata": {
        "id": "dmgqsVum8Inw",
        "colab_type": "code",
        "colab": {}
      },
      "source": [
        "new_model = tf.keras.models.load_model('/content/drive/My Drive/Colab Notebooks/dataset/model')"
      ],
      "execution_count": 30,
      "outputs": []
    },
    {
      "cell_type": "code",
      "metadata": {
        "id": "I1jiKWeF8PI8",
        "colab_type": "code",
        "colab": {
          "base_uri": "https://localhost:8080/",
          "height": 34
        },
        "outputId": "769073db-3bd5-4448-ff86-311db9a21ae5"
      },
      "source": [
        "fake = pd.read_csv('/content/drive/My Drive/Colab Notebooks/dataset/Fake.csv')\n",
        "true = pd.read_csv('/content/drive/My Drive/Colab Notebooks/dataset/True.csv')\n",
        "\n",
        "fake['Text'] = (fake.title +'. ' + fake.text)\n",
        "true['Text'] = true.title + '. ' + true.text\n",
        "\n",
        "fake['label'] = 0\n",
        "true['label'] = 1\n",
        "\n",
        "news = pd.concat([true.iloc[:, 4:], fake.iloc[:, 4:]])\n",
        "sss = StratifiedShuffleSplit(n_splits=1, test_size=0.2, random_state=0)\n",
        "\n",
        "for train_index, test_index in sss.split(news.Text, news.label):\n",
        "     print(\"TRAIN:\", train_index, \"TEST:\", test_index)\n",
        "     X_train, X_test = news.iloc[train_index, 0], news.iloc[test_index, 0]\n",
        "     y_train, y_test = news.iloc[train_index, 1], news.iloc[test_index, 1]\n",
        "\n",
        "max_features = 10000\n",
        "maxlen = 300\n",
        "\n",
        "tokenizer = Tokenizer(num_words=max_features)\n",
        "tokenizer.fit_on_texts(X_train)\n",
        "tokenized_train = tokenizer.texts_to_sequences(X_train)\n",
        "X_train = pad_sequences(tokenized_train, maxlen=maxlen)"
      ],
      "execution_count": 3,
      "outputs": [
        {
          "output_type": "stream",
          "text": [
            "TRAIN: [25362 23734 28153 ... 34226 35226 29567] TEST: [37029 43919  6641 ... 29966 29894  1702]\n"
          ],
          "name": "stdout"
        }
      ]
    },
    {
      "cell_type": "code",
      "metadata": {
        "id": "hXs-jSfl88qc",
        "colab_type": "code",
        "colab": {
          "base_uri": "https://localhost:8080/",
          "height": 34
        },
        "outputId": "45e196c6-46a3-491f-b7ca-64ee76e465f2"
      },
      "source": [
        "cd /content/drive/My Drive/Colab Notebooks/Datathon"
      ],
      "execution_count": 2,
      "outputs": [
        {
          "output_type": "stream",
          "text": [
            "/content/drive/My Drive/Colab Notebooks/Datathon\n"
          ],
          "name": "stdout"
        }
      ]
    },
    {
      "cell_type": "code",
      "metadata": {
        "id": "BPtQjGz_98Vn",
        "colab_type": "code",
        "colab": {}
      },
      "source": [
        "X_test = []\n",
        "for file in os.listdir():\n",
        "  X_test_ = pd.read_csv(file, encoding = \"utf-8\")['tweet']\n",
        "  tokenized_test = tokenizer.texts_to_sequences(X_test_)\n",
        "  X_test_ = pad_sequences(tokenized_test, maxlen=maxlen)\n",
        "  X_test.append(X_test_)"
      ],
      "execution_count": 9,
      "outputs": []
    },
    {
      "cell_type": "code",
      "metadata": {
        "id": "-vrCqEnXARMD",
        "colab_type": "code",
        "colab": {}
      },
      "source": [
        "x = np.array(X_test[0])\n",
        "for i in X_test[1:]:\n",
        "  x = np.vstack((x, i))"
      ],
      "execution_count": 16,
      "outputs": []
    },
    {
      "cell_type": "code",
      "metadata": {
        "id": "fDyZ86PN861z",
        "colab_type": "code",
        "colab": {}
      },
      "source": [
        "y_pred = new_model.predict(x)"
      ],
      "execution_count": 24,
      "outputs": []
    },
    {
      "cell_type": "code",
      "metadata": {
        "id": "R0kf_IHB86zF",
        "colab_type": "code",
        "colab": {}
      },
      "source": [
        "np.savez_compressed('y_pred.npz', y_pred = y_pred)"
      ],
      "execution_count": 25,
      "outputs": []
    },
    {
      "cell_type": "code",
      "metadata": {
        "id": "-m6WbSvxC5BE",
        "colab_type": "code",
        "colab": {}
      },
      "source": [
        ""
      ],
      "execution_count": 3,
      "outputs": []
    },
    {
      "cell_type": "code",
      "metadata": {
        "id": "cJxpzmlCDE3t",
        "colab_type": "code",
        "colab": {
          "base_uri": "https://localhost:8080/",
          "height": 1000
        },
        "outputId": "173fda0a-3faf-421a-cc93-5c18594f88eb"
      },
      "source": [
        "data = pd.DataFrame(columns=['Tweet'])\n",
        "for file in os.listdir()[:-1]:\n",
        "  print(file)\n",
        "  tweet = pd.read_csv(file, encoding = \"utf-8\")['tweet']\n",
        "  data = pd.concat([data, tweet])"
      ],
      "execution_count": 6,
      "outputs": [
        {
          "output_type": "stream",
          "text": [
            "conspiracy_theories__US April 03, 2020 0240 PM - April 04, 2020 1154 AM.csv\n",
            "conspiracy_theories__US April 07, 2020 1229 PM - April 08, 2020 1234 PM.csv\n",
            "conspiracy_theories__US April 06, 2020 1058 AM - April 07, 2020 1228 PM.csv\n",
            "cure__US April 06, 2020 1058 AM - April 07, 2020 1228 PM.csv\n",
            "cure__US April 05, 2020 1256 PM - April 06, 2020 1057 AM.csv\n",
            "cure__US April 01, 2020 1102 AM - April 02, 2020 1219 PM.csv\n",
            "cure__US March 20, 2020 0949 PM - March 21, 2020 0925 AM.csv\n",
            "emergency_measures__US GeoLocation_april28-may14.csv\n",
            "good_news__US April 03, 2020 0240 PM - April 04, 2020 1154 AM.csv\n",
            "emergency_measures__US March 20, 2020 0949 PM - March 21, 2020 0925 AM.csv\n",
            "good_news__US April 06, 2020 1058 AM - April 07, 2020 1228 PM.csv\n",
            "good_news__US April 04, 2020 1156 AM - April 05, 2020 1254 PM.csv\n",
            "good_news__US April 07, 2020 1229 PM - April 08, 2020 1234 PM.csv\n",
            "misbehaviour_scams__US April 01, 2020 1102 AM - April 02, 2020 1219 PM.csv\n",
            "nature_of_virus__US April 07, 2020 1229 PM - April 08, 2020 1234 PM.csv\n",
            "nature_of_virus__US March 20, 2020 0949 PM - March 21, 2020 0925 AM.csv\n",
            "nature_of_virus__US March 20, 2020 0137 AM - March 20, 2020 1028 AM.csv\n",
            "nature_of_virus__US GeoLocation_april28-may14.csv\n",
            "misbehaviour_scams__US March 20, 2020 0137 AM - March 20, 2020 1028 AM.csv\n",
            "emergency_measures__US April 07, 2020 1229 PM - April 08, 2020 1234 PM.csv\n",
            "conspiracy_theories__US April 04, 2020 1156 AM - April 05, 2020 1254 PM.csv\n",
            "cure__US April 07, 2020 1229 PM - April 08, 2020 1234 PM.csv\n",
            "conspiracy_theories__US April 02, 2020 1221 PM - April 03, 2020 0238 PM.csv\n",
            "cure__US April 04, 2020 1156 AM - April 05, 2020 1254 PM.csv\n",
            "nature_of_virus__US April 04, 2020 1156 AM - April 05, 2020 1254 PM.csv\n",
            "cure__US April 03, 2020 0240 PM - April 04, 2020 1154 AM.csv\n",
            "misbehaviour_scams__US April 07, 2020 1229 PM - April 08, 2020 1234 PM.csv\n",
            "misbehaviour_scams__US GeoLocation_april28-may14.csv\n",
            "conspiracy_theories__US April 05, 2020 1256 PM - April 06, 2020 1057 AM.csv\n",
            "misbehaviour_scams__US March 20, 2020 0949 PM - March 21, 2020 0925 AM.csv\n",
            "good_news__US April 01, 2020 1102 AM - April 02, 2020 1219 PM.csv\n",
            "cure__US March 20, 2020 0137 AM - March 20, 2020 1028 AM.csv\n",
            "good_news__US April 05, 2020 1256 PM - April 06, 2020 1057 AM.csv\n",
            "nature_of_virus__US April 05, 2020 1256 PM - April 06, 2020 1057 AM.csv\n",
            "nature_of_virus__US April 06, 2020 1058 AM - April 07, 2020 1228 PM.csv\n",
            "emergency_measures__US April 01, 2020 1102 AM - April 02, 2020 1219 PM.csv\n",
            "emergency_measures__US March 20, 2020 0137 AM - March 20, 2020 1028 AM.csv\n",
            "conspiracy_theories__US GeoLocation_april28-may14.csv\n",
            "good_news__US April 02, 2020 1221 PM - April 03, 2020 0238 PM.csv\n",
            "nature_of_virus__US April 01, 2020 1102 AM - April 02, 2020 1219 PM.csv\n",
            "misbehaviour_scams__US April 05, 2020 1256 PM - April 06, 2020 1057 AM.csv\n",
            "nature_of_virus__US April 03, 2020 0240 PM - April 04, 2020 1154 AM.csv\n",
            "emergency_measures__US April 06, 2020 1058 AM - April 07, 2020 1228 PM.csv\n",
            "conspiracy_theories__US March 20, 2020 0949 PM - March 21, 2020 0925 AM.csv\n",
            "misbehaviour_scams__US April 04, 2020 1156 AM - April 05, 2020 1254 PM.csv\n",
            "misbehaviour_scams__US April 06, 2020 1058 AM - April 07, 2020 1228 PM.csv\n",
            "emergency_measures__US April 04, 2020 1156 AM - April 05, 2020 1254 PM.csv\n",
            "conspiracy_theories__US April 01, 2020 1102 AM - April 02, 2020 1219 PM.csv\n",
            "good_news__US GeoLocation_april28-may14.csv\n",
            "good_news__US March 20, 2020 0137 AM - March 20, 2020 1028 AM.csv\n",
            "cure__US April 02, 2020 1221 PM - April 03, 2020 0238 PM.csv\n",
            "emergency_measures__US April 03, 2020 0240 PM - April 04, 2020 1154 AM.csv\n",
            "cure__US GeoLocation_april28-may14.csv\n",
            "misbehaviour_scams__US April 03, 2020 0240 PM - April 04, 2020 1154 AM.csv\n",
            "good_news__US March 20, 2020 0949 PM - March 21, 2020 0925 AM.csv\n",
            "nature_of_virus__US April 02, 2020 1221 PM - April 03, 2020 0238 PM.csv\n",
            "emergency_measures__US April 05, 2020 1256 PM - April 06, 2020 1057 AM.csv\n",
            "misbehaviour_scams__US April 02, 2020 1221 PM - April 03, 2020 0238 PM.csv\n",
            "emergency_measures__US April 02, 2020 1221 PM - April 03, 2020 0238 PM.csv\n",
            "conspiracy_theories__US March 20, 2020 0137 AM - March 20, 2020 1028 AM.csv\n"
          ],
          "name": "stdout"
        }
      ]
    },
    {
      "cell_type": "code",
      "metadata": {
        "id": "CwKj4fS5Er_R",
        "colab_type": "code",
        "colab": {}
      },
      "source": [
        "y_pred = np.load('y_pred.npz')\n",
        "y_pred = y_pred['y_pred']"
      ],
      "execution_count": 8,
      "outputs": []
    },
    {
      "cell_type": "code",
      "metadata": {
        "id": "f1PycAm7E6Yy",
        "colab_type": "code",
        "colab": {}
      },
      "source": [
        "data['probability_od_news_being_true'] = y_pred"
      ],
      "execution_count": 11,
      "outputs": []
    },
    {
      "cell_type": "code",
      "metadata": {
        "id": "FNChvK2vFiNa",
        "colab_type": "code",
        "colab": {}
      },
      "source": [
        "data = data.drop(columns=['Tweet'])\n",
        "data = data.rename(columns={0:'Tweet'})"
      ],
      "execution_count": 17,
      "outputs": []
    },
    {
      "cell_type": "code",
      "metadata": {
        "id": "jv4Qcw3wGbvq",
        "colab_type": "code",
        "colab": {
          "base_uri": "https://localhost:8080/",
          "height": 204
        },
        "outputId": "a15e6eab-9ebf-4864-ca7d-6835b506df78"
      },
      "source": [
        "data.head()"
      ],
      "execution_count": 25,
      "outputs": [
        {
          "output_type": "execute_result",
          "data": {
            "text/html": [
              "<div>\n",
              "<style scoped>\n",
              "    .dataframe tbody tr th:only-of-type {\n",
              "        vertical-align: middle;\n",
              "    }\n",
              "\n",
              "    .dataframe tbody tr th {\n",
              "        vertical-align: top;\n",
              "    }\n",
              "\n",
              "    .dataframe thead th {\n",
              "        text-align: right;\n",
              "    }\n",
              "</style>\n",
              "<table border=\"1\" class=\"dataframe\">\n",
              "  <thead>\n",
              "    <tr style=\"text-align: right;\">\n",
              "      <th></th>\n",
              "      <th>Tweet</th>\n",
              "      <th>probability_od_news_being_true</th>\n",
              "    </tr>\n",
              "  </thead>\n",
              "  <tbody>\n",
              "    <tr>\n",
              "      <th>0</th>\n",
              "      <td>Find them internet, plenty of corona virus in ...</td>\n",
              "      <td>1.367184e-06</td>\n",
              "    </tr>\n",
              "    <tr>\n",
              "      <th>1</th>\n",
              "      <td>The Mexican brewer of Corona beer says it is s...</td>\n",
              "      <td>1.045658e-06</td>\n",
              "    </tr>\n",
              "    <tr>\n",
              "      <th>2</th>\n",
              "      <td>While @POTUS  was delivering the SOTU, talking...</td>\n",
              "      <td>2.057727e-06</td>\n",
              "    </tr>\n",
              "    <tr>\n",
              "      <th>3</th>\n",
              "      <td>India should be grateful to Corona for exposin...</td>\n",
              "      <td>1.325684e-05</td>\n",
              "    </tr>\n",
              "    <tr>\n",
              "      <th>4</th>\n",
              "      <td>Florida man and pastor tries to give Jesus and...</td>\n",
              "      <td>8.899410e-07</td>\n",
              "    </tr>\n",
              "  </tbody>\n",
              "</table>\n",
              "</div>"
            ],
            "text/plain": [
              "                                               Tweet  probability_od_news_being_true\n",
              "0  Find them internet, plenty of corona virus in ...                    1.367184e-06\n",
              "1  The Mexican brewer of Corona beer says it is s...                    1.045658e-06\n",
              "2  While @POTUS  was delivering the SOTU, talking...                    2.057727e-06\n",
              "3  India should be grateful to Corona for exposin...                    1.325684e-05\n",
              "4  Florida man and pastor tries to give Jesus and...                    8.899410e-07"
            ]
          },
          "metadata": {
            "tags": []
          },
          "execution_count": 25
        }
      ]
    },
    {
      "cell_type": "code",
      "metadata": {
        "id": "_OjswIpoHdPW",
        "colab_type": "code",
        "colab": {}
      },
      "source": [
        "data.to_csv('fake_news_predictions.csv')"
      ],
      "execution_count": 26,
      "outputs": []
    },
    {
      "cell_type": "code",
      "metadata": {
        "id": "kC5s8EsPJGoD",
        "colab_type": "code",
        "colab": {
          "base_uri": "https://localhost:8080/",
          "height": 758
        },
        "outputId": "354d35dc-fa53-4349-875b-82ec4594d926"
      },
      "source": [
        "plot_model(new_model)"
      ],
      "execution_count": 31,
      "outputs": [
        {
          "output_type": "execute_result",
          "data": {
            "image/png": "[encoded data removed]",
            "text/plain": [
              "<IPython.core.display.Image object>"
            ]
          },
          "metadata": {
            "tags": []
          },
          "execution_count": 31
        }
      ]
    },
    {
      "cell_type": "code",
      "metadata": {
        "id": "1YyTLyktHk1m",
        "colab_type": "code",
        "colab": {
          "base_uri": "https://localhost:8080/",
          "height": 35
        },
        "outputId": "9c1d1fc0-be56-49c1-8a8f-6feb77d47e66"
      },
      "source": [
        "pwd"
      ],
      "execution_count": 28,
      "outputs": [
        {
          "output_type": "execute_result",
          "data": {
            "application/vnd.google.colaboratory.intrinsic": {
              "type": "string"
            },
            "text/plain": [
              "'/content/drive/My Drive/Colab Notebooks/Datathon'"
            ]
          },
          "metadata": {
            "tags": []
          },
          "execution_count": 28
        }
      ]
    }
  ]
}